{
 "cells": [
  {
   "cell_type": "markdown",
   "id": "681a0d6e-6ee9-45d6-a706-aa28b2cef6b6",
   "metadata": {},
   "source": [
    "## Llama-3.2-1B-Instruct"
   ]
  },
  {
   "cell_type": "code",
   "execution_count": 2,
   "id": "23207703-e5a0-43e7-bc45-845f4841dd25",
   "metadata": {},
   "outputs": [
    {
     "name": "stdout",
     "output_type": "stream",
     "text": [
      "Traceback (most recent call last):\n",
      "  File \"/home/hack-search-and-learn/scripts/test_time_compute.py\", line 19, in <module>\n",
      "    from vllm import LLM\n",
      "ModuleNotFoundError: No module named 'vllm'\n"
     ]
    }
   ],
   "source": [
    "!export CONFIG=recipes/Llama-3.2-1B-Instruct/best_of_n.yaml\n",
    "!python scripts/test_time_compute.py $CONFIG"
   ]
  },
  {
   "cell_type": "code",
   "execution_count": null,
   "id": "a909c349-f29b-4b9d-a79c-0543ea874401",
   "metadata": {},
   "outputs": [],
   "source": []
  }
 ],
 "metadata": {
  "kernelspec": {
   "display_name": "Python 3 (ipykernel)",
   "language": "python",
   "name": "python3"
  },
  "language_info": {
   "codemirror_mode": {
    "name": "ipython",
    "version": 3
   },
   "file_extension": ".py",
   "mimetype": "text/x-python",
   "name": "python",
   "nbconvert_exporter": "python",
   "pygments_lexer": "ipython3",
   "version": "3.10.13"
  }
 },
 "nbformat": 4,
 "nbformat_minor": 5
}
